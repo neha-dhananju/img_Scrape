{
 "cells": [
  {
   "cell_type": "code",
   "execution_count": 2,
   "id": "5ddd547c-aae0-44ab-be24-e295179dd55d",
   "metadata": {},
   "outputs": [],
   "source": [
    "import requests\n",
    "import logging\n",
    "import os\n",
    "from bs4 import BeautifulSoup\n",
    "from urllib.request import urlopen"
   ]
  },
  {
   "cell_type": "code",
   "execution_count": 17,
   "id": "9d2281bb-1369-44f0-8b95-3ea6162efaae",
   "metadata": {},
   "outputs": [],
   "source": [
    "save_dir=\"/Users/nehadhananju/desktop/images/\"\n",
    "if not os.path.exists(save_dir):\n",
    "    os.makedirs(save_dir)"
   ]
  },
  {
   "cell_type": "code",
   "execution_count": 36,
   "id": "f4244705-4178-4fa7-b4d8-9ea96deb5aab",
   "metadata": {},
   "outputs": [],
   "source": [
    "query=\"cat\"\n",
    "#url=f\"https://www.google.com/search?q=query&tbm=isch&ved=2ahUKEwjaqJS30ciEAxUmbGwGHY8aCZMQ2-cCegQIABAA&oq=dog&gs_lp=EgNpbWciA2RvZzIEECMYJzIEECMYJzINEAAYgAQYigUYQxixAzINEAAYgAQYigUYQxixAzIKEAAYgAQYigUYQzIKEAAYgAQYigUYQzINEAAYgAQYigUYQxixAzIIEAAYgAQYsQMyChAAGIAEGIoFGEMyBRAAGIAESKIEUABYAHAAeACQAQCYAYcBoAGHAaoBAzAuMbgBA8gBAIoCC2d3cy13aXotaW1niAYB&sclient=img&ei=TlLcZdrJGabYseMPj7WkmAk&bih=813&biw=1440\""
   ]
  },
  {
   "cell_type": "code",
   "execution_count": 37,
   "id": "60307738-ffd7-43d4-9d32-9bcfead9c8c7",
   "metadata": {},
   "outputs": [],
   "source": [
    "response=requests.get(f\"https://www.google.com/search?q={query}&tbm=isch&ved=2ahUKEwicvMLI0ciEAxXOfGwGHaDfC0AQ2-cCegQIABAA&oq=dog&gs_lp=EgNpbWciA2RvZzIEECMYJzIEECMYJzINEAAYgAQYigUYQxixAzINEAAYgAQYigUYQxixAzINEAAYgAQYigUYQxixAzIKEAAYgAQYigUYQzIKEAAYgAQYigUYQzINEAAYgAQYigUYQxixAzIIEAAYgAQYsQMyChAAGIAEGIoFGENI1QRQAFgAcAB4AJABAJgBrwGgAa8BqgEDMC4xuAEDyAEAigILZ3dzLXdpei1pbWeIBgE&sclient=img&ei=clLcZZy7Ms75seMPoL-vgAQ&bih=813&biw=1440\")"
   ]
  },
  {
   "cell_type": "code",
   "execution_count": 38,
   "id": "97450fea-06aa-4816-8cf4-b011ac1647fa",
   "metadata": {},
   "outputs": [
    {
     "data": {
      "text/plain": [
       "<Response [200]>"
      ]
     },
     "execution_count": 38,
     "metadata": {},
     "output_type": "execute_result"
    }
   ],
   "source": [
    "response"
   ]
  },
  {
   "cell_type": "code",
   "execution_count": 39,
   "id": "9aa5f4d0-20b7-4295-8f35-cc24dbb0cb87",
   "metadata": {},
   "outputs": [],
   "source": [
    "soup=BeautifulSoup(response.content,\"html.parser\")"
   ]
  },
  {
   "cell_type": "code",
   "execution_count": 40,
   "id": "907a77e9-5e6a-45f2-a3f0-5c00306f956c",
   "metadata": {},
   "outputs": [
    {
     "data": {
      "text/plain": [
       "<!DOCTYPE html PUBLIC \"-//WAPFORUM//DTD XHTML Mobile 1.0//EN\" \"http://www.wapforum.org/DTD/xhtml-mobile10.dtd\">\n",
       "<html lang=\"en-IN\" xmlns=\"http://www.w3.org/1999/xhtml\"><head><meta content=\"application/xhtml+xml; charset=utf-8\" http-equiv=\"Content-Type\"/><meta content=\"no-cache\" name=\"Cache-Control\"/><title>cat - Google Search</title><style>a{text-decoration:none;color:inherit}a:hover{text-decoration:underline}a img{border:0}body{font-family:arial,sans-serif;padding:8px;margin:0 auto;max-width:700px;min-width:240px;}.FbhRzb{border-left:thin solid #dadce0;border-right:thin solid #dadce0;border-top:thin solid #dadce0;height:40px;overflow:hidden}.n692Zd{margin-bottom:10px}.cvifge{height:40px;border-spacing:0}.QvGUP{height:40px;padding:0 8px 0 8px;vertical-align:top}.O4cRJf{height:40px;width:100%;padding:0;padding-right:16px}.O1ePr{height:40px;padding:0;vertical-align:top}.kgJEQe{height:36px;width:98px;vertical-align:top;margin-top:4px}.lXLRf{vertical-align:top}.MhzMZd{border:0;vertical-align:middle;font-size:14px;height:40px;padding:0;width:100%;padding-left:16px}.xB0fq{height:40px;border:none;font-size:14px;background-color:#1a73e8;color:#fff;padding:0 16px;margin:0;vertical-align:top;cursor:pointer}.xB0fq:focus{border:1px solid #1a73e8}.M7pB2{border:thin solid #dadce0;margin:0 0 3px 0;font-size:13px;font-weight:500;height:40px}.euZec{width:100%;height:40px;text-align:center;border-spacing:0}table.euZec td{padding:0;width:25%}.QIqI7{display:inline-block;padding-top:4px;font-weight:bold;color:#4285f4}.EY24We{border-bottom:2px solid #4285f4}.CsQyDc{display:inline-block;color:#70757a}.TuS8Ad{font-size:14px}.HddGcc{padding:8px;color:#70757a}.dzp8ae{font-weight:bold;color:#3c4043}.rEM8G{color:#70757a}.bookcf{table-layout:fixed;width:100%;border-spacing:0}.InWNIe{text-align:center}.uZgmoc{border:thin solid #dadce0;color:#70757a;font-size:14px;text-align:center;table-layout:fixed;width:100%}.frGj1b{display:block;padding:12px 0 12px 0;width:100%}.BnJWBc{text-align:center;padding:6px 0 13px 0;height:35px}.e3goi{vertical-align:top;padding:0;height:180px}.GpQGbf{margin:auto;border-collapse:collapse;border-spacing:0;width:100%}</style></head><body><style>.X6ZCif{color:#202124;font-size:11px;line-height:16px;display:inline-block;padding-top:2px;overflow:hidden;padding-bottom:4px;width:100%}.TwVfHd{border-radius:16px;border:thin solid #dadce0;display:inline-block;padding:8px 8px;margin-right:8px;margin-bottom:4px}.yekiAe{background-color:#dadce0}.jjVJ4e{width:100%}.ezO2md{border:thin solid #dadce0;padding:12px 16px 12px 16px;margin-bottom:10px;font-family:arial,sans-serif}.lIMUZd{font-family:arial,sans-serif}.RntSmf{border-spacing:0}.lgD2Tc{width:100%}.SpelHe{text-align:center}.SpelHe{position:relative}.kCmkOe{position:relative}.kCmkOe{width:162px;height:140px;line-height:140px;overflow:'hidden';text-align:center}.DS1iW{text-align:center;margin:auto;vertical-align:middle;max-width:162px;max-height:140px}.AlD19d{padding-top:2px;padding-bottom:8px;}.fYyStc{word-break:break-word}.ynsChf{display:block;white-space:nowrap;overflow:hidden;text-overflow:ellipsis}.Fj3V3b{color:#1967d2;font-size:14px;line-height:20px}.FrIlee{color:#202124;font-size:11px;line-height:16px}.F9iS2e{color:#70757a;font-size:11px;line-height:16px}.WMQ2Le{color:#70757a;font-size:12px;line-height:16px}.x3G5ab{color:#202124;font-size:12px;line-height:16px}.fuLhoc{color:#1967d2;font-size:16px;line-height:20px}.epoveb{font-size:24px;line-height:28px;font-weight:400;color:#202124}.dXDvrc{color:#0d652d;font-size:14px;line-height:20px;word-wrap:break-word}.dloBPe{font-weight:bold}.YVIcad{color:#70757a}.JkVVdd{color:#ea4335}.oXZRFd{color:#ea4335}.MQHtg{color:#fbbc04}.pyMRrb{color:#1e8e3e}.EtTZid{color:#1e8e3e}.M3vVJe{color:#1967d2}.qXLe6d{display:block}.NHQNef{font-style:italic}.Cb8Z7c{white-space:pre}a.ZWRArf{text-decoration:none}a .CVA68e:hover{text-decoration:underline}</style><div class=\"n692Zd\"><div class=\"BnJWBc\"><a class=\"lXLRf\" href=\"/?sca_esv=b7feb7c0d7ff1da6&amp;bih=813&amp;biw=1440&amp;output=images&amp;ie=UTF-8&amp;tbm=isch&amp;sa=X&amp;ved=0ahUKEwiuxr7ZtdKEAxWKSmwGHRVaDekQPAgC\"><img alt=\"Google\" class=\"kgJEQe\" src=\"/images/branding/searchlogo/1x/googlelogo_desk_heirloom_color_150x55dp.gif\"/></a></div><div class=\"FbhRzb\"><form action=\"/search\"><input name=\"sca_esv\" type=\"hidden\" value=\"b7feb7c0d7ff1da6\"/><input name=\"bih\" type=\"hidden\" value=\"813\"/><input name=\"biw\" type=\"hidden\" value=\"1440\"/><input name=\"ie\" type=\"hidden\" value=\"ISO-8859-1\"/><input name=\"tbm\" type=\"hidden\" value=\"isch\"/><input name=\"oq\" type=\"hidden\"/><input name=\"aqs\" type=\"hidden\"/><table class=\"cvifge\"><tr><td class=\"O4cRJf\"><input class=\"MhzMZd\" name=\"q\" type=\"text\" value=\"cat\"/></td><td class=\"O1ePr\"><input class=\"xB0fq\" type=\"submit\" value=\"Search\"/></td></tr></table></form></div><div class=\"M7pB2\"><table class=\"euZec\"><tbody><tr><td><a class=\"CsQyDc\" href=\"/search?q=cat&amp;sca_esv=b7feb7c0d7ff1da6&amp;bih=813&amp;biw=1440&amp;ie=UTF-8&amp;source=lnms&amp;sa=X&amp;ved=0ahUKEwiuxr7ZtdKEAxWKSmwGHRVaDekQ_AUIBCgA\">ALL</a></td><td class=\"EY24We\"><span class=\"QIqI7\">IMAGES</span></td><td><a class=\"CsQyDc\" href=\"/search?q=cat&amp;sca_esv=b7feb7c0d7ff1da6&amp;bih=813&amp;biw=1440&amp;ie=UTF-8&amp;tbm=vid&amp;source=lnms&amp;sa=X&amp;ved=0ahUKEwiuxr7ZtdKEAxWKSmwGHRVaDekQ_AUIBigC\">VIDEOS</a></td><td><a class=\"CsQyDc\" href=\"/search?q=cat&amp;sca_esv=b7feb7c0d7ff1da6&amp;bih=813&amp;biw=1440&amp;ie=UTF-8&amp;tbm=bks&amp;source=lnms&amp;sa=X&amp;ved=0ahUKEwiuxr7ZtdKEAxWKSmwGHRVaDekQ_AUIBygD\">BOOKS</a></td></tr></tbody></table></div></div><div class=\"X6ZCif\"><a class=\"TwVfHd\" href=\"/search?sca_esv=b7feb7c0d7ff1da6&amp;bih=813&amp;biw=1440&amp;ie=UTF-8&amp;tbm=isch&amp;q=cat&amp;chips=q:cat,g_1:anime&amp;sa=X&amp;ved=0ahUKEwiuxr7ZtdKEAxWKSmwGHRVaDekQ4lYICygA\">anime</a><a class=\"TwVfHd\" href=\"/search?sca_esv=b7feb7c0d7ff1da6&amp;bih=813&amp;biw=1440&amp;ie=UTF-8&amp;tbm=isch&amp;q=cat&amp;chips=q:cat,g_1:drawing&amp;sa=X&amp;ved=0ahUKEwiuxr7ZtdKEAxWKSmwGHRVaDekQ4lYIDCgB\">drawing</a><a class=\"TwVfHd\" href=\"/search?sca_esv=b7feb7c0d7ff1da6&amp;bih=813&amp;biw=1440&amp;ie=UTF-8&amp;tbm=isch&amp;q=cat&amp;chips=q:cat,g_1:kitten&amp;sa=X&amp;ved=0ahUKEwiuxr7ZtdKEAxWKSmwGHRVaDekQ4lYIDSgC\">kitten</a><a class=\"TwVfHd\" href=\"/search?sca_esv=b7feb7c0d7ff1da6&amp;bih=813&amp;biw=1440&amp;ie=UTF-8&amp;tbm=isch&amp;q=cat&amp;chips=q:cat,g_1:wallpaper&amp;sa=X&amp;ved=0ahUKEwiuxr7ZtdKEAxWKSmwGHRVaDekQ4lYIDigD\">wallpaper</a><a class=\"TwVfHd\" href=\"/search?sca_esv=b7feb7c0d7ff1da6&amp;bih=813&amp;biw=1440&amp;ie=UTF-8&amp;tbm=isch&amp;q=cat&amp;chips=q:cat,g_1:baby&amp;sa=X&amp;ved=0ahUKEwiuxr7ZtdKEAxWKSmwGHRVaDekQ4lYIDygE\">baby</a><a class=\"TwVfHd\" href=\"/search?sca_esv=b7feb7c0d7ff1da6&amp;bih=813&amp;biw=1440&amp;ie=UTF-8&amp;tbm=isch&amp;q=cat&amp;chips=q:cat,g_1:kawaii&amp;sa=X&amp;ved=0ahUKEwiuxr7ZtdKEAxWKSmwGHRVaDekQ4lYIECgF\">kawaii</a><a class=\"TwVfHd\" href=\"/search?sca_esv=b7feb7c0d7ff1da6&amp;bih=813&amp;biw=1440&amp;ie=UTF-8&amp;tbm=isch&amp;q=cat&amp;chips=q:cat,g_1:fluffy&amp;sa=X&amp;ved=0ahUKEwiuxr7ZtdKEAxWKSmwGHRVaDekQ4lYIESgG\">fluffy</a><a class=\"TwVfHd\" href=\"/search?sca_esv=b7feb7c0d7ff1da6&amp;bih=813&amp;biw=1440&amp;ie=UTF-8&amp;tbm=isch&amp;q=cat&amp;chips=q:cat,g_1:art&amp;sa=X&amp;ved=0ahUKEwiuxr7ZtdKEAxWKSmwGHRVaDekQ4lYIEigH\">art</a><a class=\"TwVfHd\" href=\"/search?sca_esv=b7feb7c0d7ff1da6&amp;bih=813&amp;biw=1440&amp;ie=UTF-8&amp;tbm=isch&amp;q=cat&amp;chips=q:cat,g_1:tabby&amp;sa=X&amp;ved=0ahUKEwiuxr7ZtdKEAxWKSmwGHRVaDekQ4lYIEygI\">tabby</a><a class=\"TwVfHd\" href=\"/search?sca_esv=b7feb7c0d7ff1da6&amp;bih=813&amp;biw=1440&amp;ie=UTF-8&amp;tbm=isch&amp;q=cat&amp;chips=q:cat,g_1:girl&amp;sa=X&amp;ved=0ahUKEwiuxr7ZtdKEAxWKSmwGHRVaDekQ4lYIFCgJ\">girl</a></div><div><table class=\"GpQGbf\"><tr><td align=\"center\" class=\"e3goi\"><div class=\"jjVJ4e\"> <div> <div class=\"lIMUZd\"><div><table class=\"RntSmf\"><tr><td><a href=\"/url?q=https://www.nationalgeographic.com/animals/mammals/facts/domestic-cat&amp;sa=U&amp;ved=2ahUKEwiuxr7ZtdKEAxWKSmwGHRVaDekQqoUBegQIBhAB&amp;usg=AOvVaw0h2TocfnHs7_x0chWsOaVA\"><div class=\"kCmkOe\"><img alt=\"\" class=\"DS1iW\" src=\"https://encrypted-tbn0.gstatic.com/images?q=tbn:ANd9GcSpcPBqqdl0GyyJldY3wynsNbK5RVQpBavKabUPq-MRjHxmKHlZTRP_gdog0A&amp;s\"/></div></a></td></tr><tr><td><a href=\"/url?q=https://www.nationalgeographic.com/animals/mammals/facts/domestic-cat&amp;sa=U&amp;ved=2ahUKEwiuxr7ZtdKEAxWKSmwGHRVaDekQr4kDegQIBhAC&amp;usg=AOvVaw3RPXkr6cN4PAWrwF1MgyV6\"><div class=\"AlD19d\"> <span class=\"qXLe6d x3G5ab\"> <span class=\"fYyStc\">Domestic cat</span> </span> <span class=\"qXLe6d F9iS2e\"> <span class=\"fYyStc\">www.nationalgeographic.com</span> </span> </div></a></td></tr></table></div></div> </div> </div></td><td align=\"center\" class=\"e3goi\"><div class=\"jjVJ4e\"> <div> <div class=\"lIMUZd\"><div><table class=\"RntSmf\"><tr><td><a href=\"/url?q=https://en.wikipedia.org/wiki/Cat&amp;sa=U&amp;ved=2ahUKEwiuxr7ZtdKEAxWKSmwGHRVaDekQqoUBegQIEhAB&amp;usg=AOvVaw3Qyq0mOkFKWjfKevj0pggr\"><div class=\"kCmkOe\"><img alt=\"\" class=\"DS1iW\" src=\"https://encrypted-tbn0.gstatic.com/images?q=tbn:ANd9GcSSyHFpRfCn3KnctrxA2AseLxRjU-33UHnsrzK_F8gyeBgnphHrNl6dM0_psAg&amp;s\"/></div></a></td></tr><tr><td><a href=\"/url?q=https://en.wikipedia.org/wiki/Cat&amp;sa=U&amp;ved=2ahUKEwiuxr7ZtdKEAxWKSmwGHRVaDekQr4kDegQIEhAC&amp;usg=AOvVaw205gjzzn-h5w-k1ptSbKP5\"><div class=\"AlD19d\"> <span class=\"qXLe6d x3G5ab\"> <span class=\"fYyStc\">Cat - Wikipedia</span> </span> <span class=\"qXLe6d F9iS2e\"> <span class=\"fYyStc\">en.wikipedia.org</span> </span> </div></a></td></tr></table></div></div> </div> </div></td><td align=\"center\" class=\"e3goi\"><div class=\"jjVJ4e\"> <div> <div class=\"lIMUZd\"><div><table class=\"RntSmf\"><tr><td><a href=\"/url?q=https://www.smithsonianmag.com/smart-news/cats-react-to-baby-talk-from-their-owners-but-not-strangers-180981007/&amp;sa=U&amp;ved=2ahUKEwiuxr7ZtdKEAxWKSmwGHRVaDekQqoUBegQIExAB&amp;usg=AOvVaw3khQaJuqhIpWx-Mw4eAYwQ\"><div class=\"kCmkOe\"><img alt=\"\" class=\"DS1iW\" src=\"https://encrypted-tbn0.gstatic.com/images?q=tbn:ANd9GcQPW6KKCnA1VTUZZzg9KLGsPDSnFkSg25RS8f1ZqpKd9T5TTT8Giy01b_Bv7Q&amp;s\"/></div></a></td></tr><tr><td><a href=\"/url?q=https://www.smithsonianmag.com/smart-news/cats-react-to-baby-talk-from-their-owners-but-not-strangers-180981007/&amp;sa=U&amp;ved=2ahUKEwiuxr7ZtdKEAxWKSmwGHRVaDekQr4kDegQIExAC&amp;usg=AOvVaw1VDRgTOzMlRrSdrxi2P6u2\"><div class=\"AlD19d\"> <span class=\"qXLe6d x3G5ab\"> <span class=\"fYyStc\">Cats React to 'Baby Talk'...</span> </span> <span class=\"qXLe6d F9iS2e\"> <span class=\"fYyStc\">www.smithsonianmag.com</span> </span> </div></a></td></tr></table></div></div> </div> </div></td><td align=\"center\" class=\"e3goi\"><div class=\"jjVJ4e\"> <div> <div class=\"lIMUZd\"><div><table class=\"RntSmf\"><tr><td><a href=\"/url?q=https://www.four-paws.org/our-stories/publications-guides/a-cats-personality&amp;sa=U&amp;ved=2ahUKEwiuxr7ZtdKEAxWKSmwGHRVaDekQqoUBegQICxAB&amp;usg=AOvVaw3L9ray6zHX-3MoQPoA61Wf\"><div class=\"kCmkOe\"><img alt=\"\" class=\"DS1iW\" src=\"https://encrypted-tbn0.gstatic.com/images?q=tbn:ANd9GcR3bMZBK4ZEEpBV7bcpGHxEtYkiqhKUTdLlK4jLUc2WImYWmNfrDQNLH3emyi4&amp;s\"/></div></a></td></tr><tr><td><a href=\"/url?q=https://www.four-paws.org/our-stories/publications-guides/a-cats-personality&amp;sa=U&amp;ved=2ahUKEwiuxr7ZtdKEAxWKSmwGHRVaDekQr4kDegQICxAC&amp;usg=AOvVaw30GlsrEUkL7UUSBPkCUUSg\"><div class=\"AlD19d\"> <span class=\"qXLe6d x3G5ab\"> <span class=\"fYyStc\">A Cat's Personality - FOUR...</span> </span> <span class=\"qXLe6d F9iS2e\"> <span class=\"fYyStc\">www.four-paws.org</span> </span> </div></a></td></tr></table></div></div> </div> </div></td></tr><tr><td align=\"center\" class=\"e3goi\"><div class=\"jjVJ4e\"> <div> <div class=\"lIMUZd\"><div><table class=\"RntSmf\"><tr><td><a href=\"/url?q=https://www.britannica.com/animal/cat&amp;sa=U&amp;ved=2ahUKEwiuxr7ZtdKEAxWKSmwGHRVaDekQqoUBegQIDxAB&amp;usg=AOvVaw3cObgd2hTU9Zmx7BH8AkrF\"><div class=\"kCmkOe\"><img alt=\"\" class=\"DS1iW\" src=\"https://encrypted-tbn0.gstatic.com/images?q=tbn:ANd9GcQcClW3iWJN7GXI8j1-KDlJU5ArM3hR1pbwRmbli3gO3u3XWCvYaQ3CJCH7D20&amp;s\"/></div></a></td></tr><tr><td><a href=\"/url?q=https://www.britannica.com/animal/cat&amp;sa=U&amp;ved=2ahUKEwiuxr7ZtdKEAxWKSmwGHRVaDekQr4kDegQIDxAC&amp;usg=AOvVaw3FAtuWZgoYayu_ZLVSN5CU\"><div class=\"AlD19d\"> <span class=\"qXLe6d x3G5ab\"> <span class=\"fYyStc\">Cat | Breeds, Origins,...</span> </span> <span class=\"qXLe6d F9iS2e\"> <span class=\"fYyStc\">www.britannica.com</span> </span> </div></a></td></tr></table></div></div> </div> </div></td><td align=\"center\" class=\"e3goi\"><div class=\"jjVJ4e\"> <div> <div class=\"lIMUZd\"><div><table class=\"RntSmf\"><tr><td><a href=\"/url?q=https://www.nationalgeographic.com/premium/article/cats-facial-expressions-pets-behavior&amp;sa=U&amp;ved=2ahUKEwiuxr7ZtdKEAxWKSmwGHRVaDekQqoUBegQIERAB&amp;usg=AOvVaw1viriktPnvUrGSjD-5Yx4x\"><div class=\"kCmkOe\"><img alt=\"\" class=\"DS1iW\" src=\"https://encrypted-tbn0.gstatic.com/images?q=tbn:ANd9GcTZFgZRHAQTkn9fdQtKefO4aZlRNGbLBNGoYoZNjQwUWydISJU1g0jSZR3p-g&amp;s\"/></div></a></td></tr><tr><td><a href=\"/url?q=https://www.nationalgeographic.com/premium/article/cats-facial-expressions-pets-behavior&amp;sa=U&amp;ved=2ahUKEwiuxr7ZtdKEAxWKSmwGHRVaDekQr4kDegQIERAC&amp;usg=AOvVaw0cU0Y3WHyjTasE7CNUWfwl\"><div class=\"AlD19d\"> <span class=\"qXLe6d x3G5ab\"> <span class=\"fYyStc\">Cats have 276 facial...</span> </span> <span class=\"qXLe6d F9iS2e\"> <span class=\"fYyStc\">www.nationalgeographic.com</span> </span> </div></a></td></tr></table></div></div> </div> </div></td><td align=\"center\" class=\"e3goi\"><div class=\"jjVJ4e\"> <div> <div class=\"lIMUZd\"><div><table class=\"RntSmf\"><tr><td><a href=\"/url?q=https://www.wfla.com/bloom-tampa-bay/10-surprising-benefits-of-having-a-cat-in-your-life/&amp;sa=U&amp;ved=2ahUKEwiuxr7ZtdKEAxWKSmwGHRVaDekQqoUBegQIDhAB&amp;usg=AOvVaw0ZQaSySL0lovo81ptD9E5v\"><div class=\"kCmkOe\"><img alt=\"\" class=\"DS1iW\" src=\"https://encrypted-tbn0.gstatic.com/images?q=tbn:ANd9GcR7HCb7JCqDO8Qn2NoQiWqJ0GiFeWTn8XGd9Xv7Hcrel12nb9zsh2zEM-lSMEE&amp;s\"/></div></a></td></tr><tr><td><a href=\"/url?q=https://www.wfla.com/bloom-tampa-bay/10-surprising-benefits-of-having-a-cat-in-your-life/&amp;sa=U&amp;ved=2ahUKEwiuxr7ZtdKEAxWKSmwGHRVaDekQr4kDegQIDhAC&amp;usg=AOvVaw2pm3xk8Laz7Zc_t7xfOV3z\"><div class=\"AlD19d\"> <span class=\"qXLe6d x3G5ab\"> <span class=\"fYyStc\">10 Surprising benefits of...</span> </span> <span class=\"qXLe6d F9iS2e\"> <span class=\"fYyStc\">www.wfla.com</span> </span> </div></a></td></tr></table></div></div> </div> </div></td><td align=\"center\" class=\"e3goi\"><div class=\"jjVJ4e\"> <div> <div class=\"lIMUZd\"><div><table class=\"RntSmf\"><tr><td><a href=\"/url?q=https://www.goodhousekeeping.com/life/pets/a43276342/cat-instagram-captions/&amp;sa=U&amp;ved=2ahUKEwiuxr7ZtdKEAxWKSmwGHRVaDekQqoUBegQIChAB&amp;usg=AOvVaw3GvX-zILo3hzX05jXAa98j\"><div class=\"kCmkOe\"><img alt=\"\" class=\"DS1iW\" src=\"https://encrypted-tbn0.gstatic.com/images?q=tbn:ANd9GcROcHy3WsPNCU_hAlVQ2agKLDqdJ-w1lhLY7B4O_ugJUQdLUWkvK5ACxDYPZQ&amp;s\"/></div></a></td></tr><tr><td><a href=\"/url?q=https://www.goodhousekeeping.com/life/pets/a43276342/cat-instagram-captions/&amp;sa=U&amp;ved=2ahUKEwiuxr7ZtdKEAxWKSmwGHRVaDekQr4kDegQIChAC&amp;usg=AOvVaw0PaphMSaMZ2EZDUi5S14Rj\"><div class=\"AlD19d\"> <span class=\"qXLe6d x3G5ab\"> <span class=\"fYyStc\">25 Best Cat Instagram...</span> </span> <span class=\"qXLe6d F9iS2e\"> <span class=\"fYyStc\">www.goodhousekeeping.com</span> </span> </div></a></td></tr></table></div></div> </div> </div></td></tr><tr><td align=\"center\" class=\"e3goi\"><div class=\"jjVJ4e\"> <div> <div class=\"lIMUZd\"><div><table class=\"RntSmf\"><tr><td><a href=\"/url?q=https://www.pexels.com/search/cat/&amp;sa=U&amp;ved=2ahUKEwiuxr7ZtdKEAxWKSmwGHRVaDekQqoUBegQIDRAB&amp;usg=AOvVaw25gvjhRwE79WvCw2sIVR8K\"><div class=\"kCmkOe\"><img alt=\"\" class=\"DS1iW\" src=\"https://encrypted-tbn0.gstatic.com/images?q=tbn:ANd9GcRJxGXaxIYwRXAoL-FKi7zAVgRm2rbfKwguGOBvznePF6ZlYA_XW1s0P_garA&amp;s\"/></div></a></td></tr><tr><td><a href=\"/url?q=https://www.pexels.com/search/cat/&amp;sa=U&amp;ved=2ahUKEwiuxr7ZtdKEAxWKSmwGHRVaDekQr4kDegQIDRAC&amp;usg=AOvVaw1YKgELFJns_pwctShZtCOO\"><div class=\"AlD19d\"> <span class=\"qXLe6d x3G5ab\"> <span class=\"fYyStc\">20,000+ Best Cat Photos ·...</span> </span> <span class=\"qXLe6d F9iS2e\"> <span class=\"fYyStc\">www.pexels.com</span> </span> </div></a></td></tr></table></div></div> </div> </div></td><td align=\"center\" class=\"e3goi\"><div class=\"jjVJ4e\"> <div> <div class=\"lIMUZd\"><div><table class=\"RntSmf\"><tr><td><a href=\"/url?q=https://www.nationalgeographic.com/animals/mammals/facts/domestic-cat&amp;sa=U&amp;ved=2ahUKEwiuxr7ZtdKEAxWKSmwGHRVaDekQqoUBegQIEBAB&amp;usg=AOvVaw1oOQpDMLidC1e1AvsAqjPD\"><div class=\"kCmkOe\"><img alt=\"\" class=\"DS1iW\" src=\"https://encrypted-tbn0.gstatic.com/images?q=tbn:ANd9GcQxEo1P1z__u9YzuWsWxU1aLO3pVPKokmZpmRBNKNxSfEVzmgHiJgndSJKA_84&amp;s\"/></div></a></td></tr><tr><td><a href=\"/url?q=https://www.nationalgeographic.com/animals/mammals/facts/domestic-cat&amp;sa=U&amp;ved=2ahUKEwiuxr7ZtdKEAxWKSmwGHRVaDekQr4kDegQIEBAC&amp;usg=AOvVaw206bsewaBm9REq8rFvv2l1\"><div class=\"AlD19d\"> <span class=\"qXLe6d x3G5ab\"> <span class=\"fYyStc\">Domestic cat</span> </span> <span class=\"qXLe6d F9iS2e\"> <span class=\"fYyStc\">www.nationalgeographic.com</span> </span> </div></a></td></tr></table></div></div> </div> </div></td><td align=\"center\" class=\"e3goi\"><div class=\"jjVJ4e\"> <div> <div class=\"lIMUZd\"><div><table class=\"RntSmf\"><tr><td><a href=\"/url?q=https://timesofindia.indiatimes.com/life-style/relationships/web-stories/most-popular-cat-breeds-in-india-to-have-as-pets/photostory/107091638.cms&amp;sa=U&amp;ved=2ahUKEwiuxr7ZtdKEAxWKSmwGHRVaDekQqoUBegQIDBAB&amp;usg=AOvVaw3403ZkTwwj32Ep0Ey18UeG\"><div class=\"kCmkOe\"><img alt=\"\" class=\"DS1iW\" src=\"https://encrypted-tbn0.gstatic.com/images?q=tbn:ANd9GcTpvSgNBcnXC_Te8I75faCE0YjUJkTPcEFklA4fJwhY0U5_7Q7bnYrNXXuAfiw&amp;s\"/></div></a></td></tr><tr><td><a href=\"/url?q=https://timesofindia.indiatimes.com/life-style/relationships/web-stories/most-popular-cat-breeds-in-india-to-have-as-pets/photostory/107091638.cms&amp;sa=U&amp;ved=2ahUKEwiuxr7ZtdKEAxWKSmwGHRVaDekQr4kDegQIDBAC&amp;usg=AOvVaw2H4X9O3bT4tvDNCFChw_od\"><div class=\"AlD19d\"> <span class=\"qXLe6d x3G5ab\"> <span class=\"fYyStc\">Most popular cat breeds in...</span> </span> <span class=\"qXLe6d F9iS2e\"> <span class=\"fYyStc\">timesofindia.indiatimes.com...</span> </span> </div></a></td></tr></table></div></div> </div> </div></td><td align=\"center\" class=\"e3goi\"><div class=\"jjVJ4e\"> <div> <div class=\"lIMUZd\"><div><table class=\"RntSmf\"><tr><td><a href=\"/url?q=https://en.wikipedia.org/wiki/Cat_training&amp;sa=U&amp;ved=2ahUKEwiuxr7ZtdKEAxWKSmwGHRVaDekQqoUBegQICRAB&amp;usg=AOvVaw378aeDH2IyXtAuYtEokjsf\"><div class=\"kCmkOe\"><img alt=\"\" class=\"DS1iW\" src=\"https://encrypted-tbn0.gstatic.com/images?q=tbn:ANd9GcQAgg6zyDFcKQsF_pUtS3krHrHOL8bhcPUgmjTw47v1yiAup_7DxMdsokewzG0&amp;s\"/></div></a></td></tr><tr><td><a href=\"/url?q=https://en.wikipedia.org/wiki/Cat_training&amp;sa=U&amp;ved=2ahUKEwiuxr7ZtdKEAxWKSmwGHRVaDekQr4kDegQICRAC&amp;usg=AOvVaw38pZwaHr70HQvO8DtNyAA5\"><div class=\"AlD19d\"> <span class=\"qXLe6d x3G5ab\"> <span class=\"fYyStc\">Cat training - Wikipedia</span> </span> <span class=\"qXLe6d F9iS2e\"> <span class=\"fYyStc\">en.wikipedia.org</span> </span> </div></a></td></tr></table></div></div> </div> </div></td></tr><tr><td align=\"center\" class=\"e3goi\"><div class=\"jjVJ4e\"> <div> <div class=\"lIMUZd\"><div><table class=\"RntSmf\"><tr><td><a href=\"/url?q=https://www.freepik.com/photos/beautiful-cat&amp;sa=U&amp;ved=2ahUKEwiuxr7ZtdKEAxWKSmwGHRVaDekQqoUBegQIABAB&amp;usg=AOvVaw3ePnK5gYTPdxYEyKcDhpkI\"><div class=\"kCmkOe\"><img alt=\"\" class=\"DS1iW\" src=\"https://encrypted-tbn0.gstatic.com/images?q=tbn:ANd9GcQ1uXyLeFh3Xpocltv4iyDDBHynbpLhDz5if6ACUhDVQmqMbl88lKx7Z-Y6v8A&amp;s\"/></div></a></td></tr><tr><td><a href=\"/url?q=https://www.freepik.com/photos/beautiful-cat&amp;sa=U&amp;ved=2ahUKEwiuxr7ZtdKEAxWKSmwGHRVaDekQr4kDegQIABAC&amp;usg=AOvVaw3oFm04VfL3-R2ACo-a087q\"><div class=\"AlD19d\"> <span class=\"qXLe6d x3G5ab\"> <span class=\"fYyStc\">98,000+ Beautiful Cat...</span> </span> <span class=\"qXLe6d F9iS2e\"> <span class=\"fYyStc\">www.freepik.com</span> </span> </div></a></td></tr></table></div></div> </div> </div></td><td align=\"center\" class=\"e3goi\"><div class=\"jjVJ4e\"> <div> <div class=\"lIMUZd\"><div><table class=\"RntSmf\"><tr><td><a href=\"/url?q=https://www.scientificamerican.com/article/the-6-most-intriguing-things-we-learned-about-pet-cats-and-dogs-this-year/&amp;sa=U&amp;ved=2ahUKEwiuxr7ZtdKEAxWKSmwGHRVaDekQqoUBegQIBRAB&amp;usg=AOvVaw2lTGaBbYN83ODN1WGYE2a5\"><div class=\"kCmkOe\"><img alt=\"\" class=\"DS1iW\" src=\"https://encrypted-tbn0.gstatic.com/images?q=tbn:ANd9GcS0DHpXpb_kITI2tLyMZx5-4nqu1jkjsC8ZnA8rU4dhZSnc5inji3tVXYu1KQ&amp;s\"/></div></a></td></tr><tr><td><a href=\"/url?q=https://www.scientificamerican.com/article/the-6-most-intriguing-things-we-learned-about-pet-cats-and-dogs-this-year/&amp;sa=U&amp;ved=2ahUKEwiuxr7ZtdKEAxWKSmwGHRVaDekQr4kDegQIBRAC&amp;usg=AOvVaw07GKp49oIs1u7J0t-eIhxU\"><div class=\"AlD19d\"> <span class=\"qXLe6d x3G5ab\"> <span class=\"fYyStc\">The 6 Most Intriguing...</span> </span> <span class=\"qXLe6d F9iS2e\"> <span class=\"fYyStc\">www.scientificamerican.com</span> </span> </div></a></td></tr></table></div></div> </div> </div></td><td align=\"center\" class=\"e3goi\"><div class=\"jjVJ4e\"> <div> <div class=\"lIMUZd\"><div><table class=\"RntSmf\"><tr><td><a href=\"/url?q=https://www.nytimes.com/2021/09/07/science/cat-stripes-genetics.html&amp;sa=U&amp;ved=2ahUKEwiuxr7ZtdKEAxWKSmwGHRVaDekQqoUBegQIAxAB&amp;usg=AOvVaw2qiT5oTP5pHJhZFj9E_aSC\"><div class=\"kCmkOe\"><img alt=\"\" class=\"DS1iW\" src=\"https://encrypted-tbn0.gstatic.com/images?q=tbn:ANd9GcQtUjizJshX52X_qhGXsa2rIVOnGlRtXhBqnNPMB2JSn_ibAnT0s9aWUeAbfjE&amp;s\"/></div></a></td></tr><tr><td><a href=\"/url?q=https://www.nytimes.com/2021/09/07/science/cat-stripes-genetics.html&amp;sa=U&amp;ved=2ahUKEwiuxr7ZtdKEAxWKSmwGHRVaDekQr4kDegQIAxAC&amp;usg=AOvVaw2YtaHF79xMvNXsmeUAT5J1\"><div class=\"AlD19d\"> <span class=\"qXLe6d x3G5ab\"> <span class=\"fYyStc\">How the Cat Gets Its...</span> </span> <span class=\"qXLe6d F9iS2e\"> <span class=\"fYyStc\">www.nytimes.com</span> </span> </div></a></td></tr></table></div></div> </div> </div></td><td align=\"center\" class=\"e3goi\"><div class=\"jjVJ4e\"> <div> <div class=\"lIMUZd\"><div><table class=\"RntSmf\"><tr><td><a href=\"/url?q=https://www.rd.com/list/common-cat-myths/&amp;sa=U&amp;ved=2ahUKEwiuxr7ZtdKEAxWKSmwGHRVaDekQqoUBegQIARAB&amp;usg=AOvVaw23G72ouroE57kBJiRHSP5r\"><div class=\"kCmkOe\"><img alt=\"\" class=\"DS1iW\" src=\"https://encrypted-tbn0.gstatic.com/images?q=tbn:ANd9GcTroSwKuBl1FgTBBgiky6zzxYWzJ0SAVItJRj46umpFz6otVDe40YRhsrE81g&amp;s\"/></div></a></td></tr><tr><td><a href=\"/url?q=https://www.rd.com/list/common-cat-myths/&amp;sa=U&amp;ved=2ahUKEwiuxr7ZtdKEAxWKSmwGHRVaDekQr4kDegQIARAC&amp;usg=AOvVaw25gd-pbQ_xnB-WHCvAHUJi\"><div class=\"AlD19d\"> <span class=\"qXLe6d x3G5ab\"> <span class=\"fYyStc\">Common “Facts” About Cats...</span> </span> <span class=\"qXLe6d F9iS2e\"> <span class=\"fYyStc\">www.rd.com</span> </span> </div></a></td></tr></table></div></div> </div> </div></td></tr><tr><td align=\"center\" class=\"e3goi\"><div class=\"jjVJ4e\"> <div> <div class=\"lIMUZd\"><div><table class=\"RntSmf\"><tr><td><a href=\"/url?q=https://www.hindustantimes.com/more-lifestyle/international-cat-day-20-interesting-cat-facts-you-must-know/story-iv9FrRfnckBynrzIbgmlGO.html&amp;sa=U&amp;ved=2ahUKEwiuxr7ZtdKEAxWKSmwGHRVaDekQqoUBegQIBBAB&amp;usg=AOvVaw10Szxohs_kHlAovF43Xgk8\"><div class=\"kCmkOe\"><img alt=\"\" class=\"DS1iW\" src=\"https://encrypted-tbn0.gstatic.com/images?q=tbn:ANd9GcQzrFz-RwdNj43EAHnQf1bzDYJk9wQq936OdhA7cg9TMbs2a9kGevM86OyF8g&amp;s\"/></div></a></td></tr><tr><td><a href=\"/url?q=https://www.hindustantimes.com/more-lifestyle/international-cat-day-20-interesting-cat-facts-you-must-know/story-iv9FrRfnckBynrzIbgmlGO.html&amp;sa=U&amp;ved=2ahUKEwiuxr7ZtdKEAxWKSmwGHRVaDekQr4kDegQIBBAC&amp;usg=AOvVaw1dJ-hEkIh6k35BolJG9J_L\"><div class=\"AlD19d\"> <span class=\"qXLe6d x3G5ab\"> <span class=\"fYyStc\">International Cat Day: 20...</span> </span> <span class=\"qXLe6d F9iS2e\"> <span class=\"fYyStc\">www.hindustantimes.com</span> </span> </div></a></td></tr></table></div></div> </div> </div></td><td align=\"center\" class=\"e3goi\"><div class=\"jjVJ4e\"> <div> <div class=\"lIMUZd\"><div><table class=\"RntSmf\"><tr><td><a href=\"/url?q=https://www.countryliving.com/life/kids-pets/g42625508/the-friendliest-cat-breeds-that-make-great-pets/&amp;sa=U&amp;ved=2ahUKEwiuxr7ZtdKEAxWKSmwGHRVaDekQqoUBegQIBxAB&amp;usg=AOvVaw0pq1Eo9ufJzz_bjB2zC3QJ\"><div class=\"kCmkOe\"><img alt=\"\" class=\"DS1iW\" src=\"https://encrypted-tbn0.gstatic.com/images?q=tbn:ANd9GcRknJXZWKTePBZsmd50DUbb3ERIZ9-dyP7iyLn8qsrEfim_0O5FpjajhN6cFjg&amp;s\"/></div></a></td></tr><tr><td><a href=\"/url?q=https://www.countryliving.com/life/kids-pets/g42625508/the-friendliest-cat-breeds-that-make-great-pets/&amp;sa=U&amp;ved=2ahUKEwiuxr7ZtdKEAxWKSmwGHRVaDekQr4kDegQIBxAC&amp;usg=AOvVaw1yheO5TSw0hj2dtI4-oXB6\"><div class=\"AlD19d\"> <span class=\"qXLe6d x3G5ab\"> <span class=\"fYyStc\">The Friendliest Cat Breeds...</span> </span> <span class=\"qXLe6d F9iS2e\"> <span class=\"fYyStc\">www.countryliving.com</span> </span> </div></a></td></tr></table></div></div> </div> </div></td><td align=\"center\" class=\"e3goi\"><div class=\"jjVJ4e\"> <div> <div class=\"lIMUZd\"><div><table class=\"RntSmf\"><tr><td><a href=\"/url?q=https://besttopets.com/cats/cat-price-in-india/&amp;sa=U&amp;ved=2ahUKEwiuxr7ZtdKEAxWKSmwGHRVaDekQqoUBegQICBAB&amp;usg=AOvVaw3h3V9UzYFutPcmvnQj4V4x\"><div class=\"kCmkOe\"><img alt=\"\" class=\"DS1iW\" src=\"https://encrypted-tbn0.gstatic.com/images?q=tbn:ANd9GcSa4_w43GtcheOnl7H_YhCu7Fu2ItFoXLefyEYYQ8n5ZTbvGO3yGuiWqIU5Hw&amp;s\"/></div></a></td></tr><tr><td><a href=\"/url?q=https://besttopets.com/cats/cat-price-in-india/&amp;sa=U&amp;ved=2ahUKEwiuxr7ZtdKEAxWKSmwGHRVaDekQr4kDegQICBAC&amp;usg=AOvVaw0btTXE_c6WdP52gij3VF1A\"><div class=\"AlD19d\"> <span class=\"qXLe6d x3G5ab\"> <span class=\"fYyStc\">Cat Price In India ₹❤| 28+...</span> </span> <span class=\"qXLe6d F9iS2e\"> <span class=\"fYyStc\">besttopets.com</span> </span> </div></a></td></tr></table></div></div> </div> </div></td><td align=\"center\" class=\"e3goi\"><div class=\"jjVJ4e\"> <div> <div class=\"lIMUZd\"><div><table class=\"RntSmf\"><tr><td><a href=\"/url?q=https://www.youtube.com/watch%3Fv%3DfeEMKVcFyC4&amp;sa=U&amp;ved=2ahUKEwiuxr7ZtdKEAxWKSmwGHRVaDekQqoUBegQIAhAB&amp;usg=AOvVaw2_bhYnHLBCEg96se-iHU3p\"><div class=\"kCmkOe\"><img alt=\"\" class=\"DS1iW\" src=\"https://encrypted-tbn0.gstatic.com/images?q=tbn:ANd9GcSeetFW2Kk0ZQyaqq1hmOBhQkLmZkTDhiJP5URsGRfcjAnyWN6_OvRQkcJ3YQ&amp;s\"/></div></a></td></tr><tr><td><a href=\"/url?q=https://www.youtube.com/watch%3Fv%3DfeEMKVcFyC4&amp;sa=U&amp;ved=2ahUKEwiuxr7ZtdKEAxWKSmwGHRVaDekQr4kDegQIAhAC&amp;usg=AOvVaw2CDLLaGNr37NOpuNdUizMq\"><div class=\"AlD19d\"> <span class=\"qXLe6d x3G5ab\"> <span class=\"fYyStc\">Baby Cats - Cute and Funny...</span> </span> <span class=\"qXLe6d F9iS2e\"> <span class=\"fYyStc\">www.youtube.com</span> </span> </div></a></td></tr></table></div></div> </div> </div></td></tr></table></div><table class=\"uZgmoc\"><tbody><td><a class=\"frGj1b\" href=\"/search?q=cat&amp;sca_esv=b7feb7c0d7ff1da6&amp;bih=813&amp;biw=1440&amp;ie=UTF-8&amp;tbm=isch&amp;ei=Z3PhZe72JIqVseMPlbS1yA4&amp;start=20&amp;sa=N\">Next &gt;</a></td></tbody></table><br/><div class=\"TuS8Ad\" data-ved=\"0ahUKEwiuxr7ZtdKEAxWKSmwGHRVaDekQpyoIUg\"><style>.VYM29{font-weight:bold}</style><div align=\"center\" class=\"HddGcc\"><span class=\"VYM29\">Bengaluru, Karnataka</span><span> - </span><span>From your IP address</span><span> - </span><a href=\"/url?q=https://support.google.com/websearch%3Fp%3Dws_settings_location%26hl%3Den-IN&amp;opi=89978449&amp;sa=U&amp;ved=0ahUKEwiuxr7ZtdKEAxWKSmwGHRVaDekQty4IUw&amp;usg=AOvVaw1HIyDeuP4TwkMBrl4g88JA\">Learn more</a></div><div align=\"center\"><a class=\"rEM8G\" href=\"/url?q=https://accounts.google.com/ServiceLogin%3Fcontinue%3Dhttps://www.google.com/search%253Fq%253Dcat%2526tbm%253Disch%2526ved%253D2ahUKEwicvMLI0ciEAxXOfGwGHaDfC0AQ2-cCegQIABAA%2526oq%253Ddog%2526gs_lp%253DEgNpbWciA2RvZzIEECMYJzIEECMYJzINEAAYgAQYigUYQxixAzINEAAYgAQYigUYQxixAzINEAAYgAQYigUYQxixAzIKEAAYgAQYigUYQzIKEAAYgAQYigUYQzINEAAYgAQYigUYQxixAzIIEAAYgAQYsQMyChAAGIAEGIoFGENI1QRQAFgAcAB4AJABAJgBrwGgAa8BqgEDMC4xuAEDyAEAigILZ3dzLXdpei1pbWeIBgE%2526sclient%253Dimg%2526ei%253DclLcZZy7Ms75seMPoL-vgAQ%2526bih%253D813%2526biw%253D1440%26hl%3Den&amp;opi=89978449&amp;sa=U&amp;ved=0ahUKEwiuxr7ZtdKEAxWKSmwGHRVaDekQxs8CCFQ&amp;usg=AOvVaw13uMC9uZWMmGJJwjJp-1dl\">Sign in</a></div><div><table class=\"bookcf\"><tbody class=\"InWNIe\"><tr><td><a class=\"rEM8G\" href=\"https://www.google.com/preferences?hl=en&amp;sa=X&amp;ved=0ahUKEwiuxr7ZtdKEAxWKSmwGHRVaDekQv5YECFU\">Settings</a></td><td><a class=\"rEM8G\" href=\"https://www.google.com/intl/en_in/policies/privacy/\">Privacy</a></td><td><a class=\"rEM8G\" href=\"https://www.google.com/intl/en_in/policies/terms/\">Terms</a></td></tr></tbody></table></div></div><div> </div></body></html>"
      ]
     },
     "execution_count": 40,
     "metadata": {},
     "output_type": "execute_result"
    }
   ],
   "source": [
    "soup"
   ]
  },
  {
   "cell_type": "code",
   "execution_count": 41,
   "id": "a9c99dbd-8937-49aa-ba67-6f3d7b19780d",
   "metadata": {},
   "outputs": [],
   "source": [
    "image_tags=soup.find_all(\"img\")"
   ]
  },
  {
   "cell_type": "code",
   "execution_count": 42,
   "id": "209d491a-6751-4dd4-9e3e-7a2e13dfc3c7",
   "metadata": {},
   "outputs": [
    {
     "data": {
      "text/plain": [
       "[<img alt=\"Google\" class=\"kgJEQe\" src=\"/images/branding/searchlogo/1x/googlelogo_desk_heirloom_color_150x55dp.gif\"/>,\n",
       " <img alt=\"\" class=\"DS1iW\" src=\"https://encrypted-tbn0.gstatic.com/images?q=tbn:ANd9GcSpcPBqqdl0GyyJldY3wynsNbK5RVQpBavKabUPq-MRjHxmKHlZTRP_gdog0A&amp;s\"/>,\n",
       " <img alt=\"\" class=\"DS1iW\" src=\"https://encrypted-tbn0.gstatic.com/images?q=tbn:ANd9GcSSyHFpRfCn3KnctrxA2AseLxRjU-33UHnsrzK_F8gyeBgnphHrNl6dM0_psAg&amp;s\"/>,\n",
       " <img alt=\"\" class=\"DS1iW\" src=\"https://encrypted-tbn0.gstatic.com/images?q=tbn:ANd9GcQPW6KKCnA1VTUZZzg9KLGsPDSnFkSg25RS8f1ZqpKd9T5TTT8Giy01b_Bv7Q&amp;s\"/>,\n",
       " <img alt=\"\" class=\"DS1iW\" src=\"https://encrypted-tbn0.gstatic.com/images?q=tbn:ANd9GcR3bMZBK4ZEEpBV7bcpGHxEtYkiqhKUTdLlK4jLUc2WImYWmNfrDQNLH3emyi4&amp;s\"/>,\n",
       " <img alt=\"\" class=\"DS1iW\" src=\"https://encrypted-tbn0.gstatic.com/images?q=tbn:ANd9GcQcClW3iWJN7GXI8j1-KDlJU5ArM3hR1pbwRmbli3gO3u3XWCvYaQ3CJCH7D20&amp;s\"/>,\n",
       " <img alt=\"\" class=\"DS1iW\" src=\"https://encrypted-tbn0.gstatic.com/images?q=tbn:ANd9GcTZFgZRHAQTkn9fdQtKefO4aZlRNGbLBNGoYoZNjQwUWydISJU1g0jSZR3p-g&amp;s\"/>,\n",
       " <img alt=\"\" class=\"DS1iW\" src=\"https://encrypted-tbn0.gstatic.com/images?q=tbn:ANd9GcR7HCb7JCqDO8Qn2NoQiWqJ0GiFeWTn8XGd9Xv7Hcrel12nb9zsh2zEM-lSMEE&amp;s\"/>,\n",
       " <img alt=\"\" class=\"DS1iW\" src=\"https://encrypted-tbn0.gstatic.com/images?q=tbn:ANd9GcROcHy3WsPNCU_hAlVQ2agKLDqdJ-w1lhLY7B4O_ugJUQdLUWkvK5ACxDYPZQ&amp;s\"/>,\n",
       " <img alt=\"\" class=\"DS1iW\" src=\"https://encrypted-tbn0.gstatic.com/images?q=tbn:ANd9GcRJxGXaxIYwRXAoL-FKi7zAVgRm2rbfKwguGOBvznePF6ZlYA_XW1s0P_garA&amp;s\"/>,\n",
       " <img alt=\"\" class=\"DS1iW\" src=\"https://encrypted-tbn0.gstatic.com/images?q=tbn:ANd9GcQxEo1P1z__u9YzuWsWxU1aLO3pVPKokmZpmRBNKNxSfEVzmgHiJgndSJKA_84&amp;s\"/>,\n",
       " <img alt=\"\" class=\"DS1iW\" src=\"https://encrypted-tbn0.gstatic.com/images?q=tbn:ANd9GcTpvSgNBcnXC_Te8I75faCE0YjUJkTPcEFklA4fJwhY0U5_7Q7bnYrNXXuAfiw&amp;s\"/>,\n",
       " <img alt=\"\" class=\"DS1iW\" src=\"https://encrypted-tbn0.gstatic.com/images?q=tbn:ANd9GcQAgg6zyDFcKQsF_pUtS3krHrHOL8bhcPUgmjTw47v1yiAup_7DxMdsokewzG0&amp;s\"/>,\n",
       " <img alt=\"\" class=\"DS1iW\" src=\"https://encrypted-tbn0.gstatic.com/images?q=tbn:ANd9GcQ1uXyLeFh3Xpocltv4iyDDBHynbpLhDz5if6ACUhDVQmqMbl88lKx7Z-Y6v8A&amp;s\"/>,\n",
       " <img alt=\"\" class=\"DS1iW\" src=\"https://encrypted-tbn0.gstatic.com/images?q=tbn:ANd9GcS0DHpXpb_kITI2tLyMZx5-4nqu1jkjsC8ZnA8rU4dhZSnc5inji3tVXYu1KQ&amp;s\"/>,\n",
       " <img alt=\"\" class=\"DS1iW\" src=\"https://encrypted-tbn0.gstatic.com/images?q=tbn:ANd9GcQtUjizJshX52X_qhGXsa2rIVOnGlRtXhBqnNPMB2JSn_ibAnT0s9aWUeAbfjE&amp;s\"/>,\n",
       " <img alt=\"\" class=\"DS1iW\" src=\"https://encrypted-tbn0.gstatic.com/images?q=tbn:ANd9GcTroSwKuBl1FgTBBgiky6zzxYWzJ0SAVItJRj46umpFz6otVDe40YRhsrE81g&amp;s\"/>,\n",
       " <img alt=\"\" class=\"DS1iW\" src=\"https://encrypted-tbn0.gstatic.com/images?q=tbn:ANd9GcQzrFz-RwdNj43EAHnQf1bzDYJk9wQq936OdhA7cg9TMbs2a9kGevM86OyF8g&amp;s\"/>,\n",
       " <img alt=\"\" class=\"DS1iW\" src=\"https://encrypted-tbn0.gstatic.com/images?q=tbn:ANd9GcRknJXZWKTePBZsmd50DUbb3ERIZ9-dyP7iyLn8qsrEfim_0O5FpjajhN6cFjg&amp;s\"/>,\n",
       " <img alt=\"\" class=\"DS1iW\" src=\"https://encrypted-tbn0.gstatic.com/images?q=tbn:ANd9GcSa4_w43GtcheOnl7H_YhCu7Fu2ItFoXLefyEYYQ8n5ZTbvGO3yGuiWqIU5Hw&amp;s\"/>,\n",
       " <img alt=\"\" class=\"DS1iW\" src=\"https://encrypted-tbn0.gstatic.com/images?q=tbn:ANd9GcSeetFW2Kk0ZQyaqq1hmOBhQkLmZkTDhiJP5URsGRfcjAnyWN6_OvRQkcJ3YQ&amp;s\"/>]"
      ]
     },
     "execution_count": 42,
     "metadata": {},
     "output_type": "execute_result"
    }
   ],
   "source": [
    "image_tags"
   ]
  },
  {
   "cell_type": "code",
   "execution_count": 43,
   "id": "57388d01-6449-4471-b62d-7b032b45f4f9",
   "metadata": {},
   "outputs": [],
   "source": [
    "del image_tags[0]"
   ]
  },
  {
   "cell_type": "code",
   "execution_count": 44,
   "id": "7cc9fba9-4cec-4169-848d-6d3750ec1543",
   "metadata": {},
   "outputs": [
    {
     "data": {
      "text/plain": [
       "[<img alt=\"\" class=\"DS1iW\" src=\"https://encrypted-tbn0.gstatic.com/images?q=tbn:ANd9GcSpcPBqqdl0GyyJldY3wynsNbK5RVQpBavKabUPq-MRjHxmKHlZTRP_gdog0A&amp;s\"/>,\n",
       " <img alt=\"\" class=\"DS1iW\" src=\"https://encrypted-tbn0.gstatic.com/images?q=tbn:ANd9GcSSyHFpRfCn3KnctrxA2AseLxRjU-33UHnsrzK_F8gyeBgnphHrNl6dM0_psAg&amp;s\"/>,\n",
       " <img alt=\"\" class=\"DS1iW\" src=\"https://encrypted-tbn0.gstatic.com/images?q=tbn:ANd9GcQPW6KKCnA1VTUZZzg9KLGsPDSnFkSg25RS8f1ZqpKd9T5TTT8Giy01b_Bv7Q&amp;s\"/>,\n",
       " <img alt=\"\" class=\"DS1iW\" src=\"https://encrypted-tbn0.gstatic.com/images?q=tbn:ANd9GcR3bMZBK4ZEEpBV7bcpGHxEtYkiqhKUTdLlK4jLUc2WImYWmNfrDQNLH3emyi4&amp;s\"/>,\n",
       " <img alt=\"\" class=\"DS1iW\" src=\"https://encrypted-tbn0.gstatic.com/images?q=tbn:ANd9GcQcClW3iWJN7GXI8j1-KDlJU5ArM3hR1pbwRmbli3gO3u3XWCvYaQ3CJCH7D20&amp;s\"/>,\n",
       " <img alt=\"\" class=\"DS1iW\" src=\"https://encrypted-tbn0.gstatic.com/images?q=tbn:ANd9GcTZFgZRHAQTkn9fdQtKefO4aZlRNGbLBNGoYoZNjQwUWydISJU1g0jSZR3p-g&amp;s\"/>,\n",
       " <img alt=\"\" class=\"DS1iW\" src=\"https://encrypted-tbn0.gstatic.com/images?q=tbn:ANd9GcR7HCb7JCqDO8Qn2NoQiWqJ0GiFeWTn8XGd9Xv7Hcrel12nb9zsh2zEM-lSMEE&amp;s\"/>,\n",
       " <img alt=\"\" class=\"DS1iW\" src=\"https://encrypted-tbn0.gstatic.com/images?q=tbn:ANd9GcROcHy3WsPNCU_hAlVQ2agKLDqdJ-w1lhLY7B4O_ugJUQdLUWkvK5ACxDYPZQ&amp;s\"/>,\n",
       " <img alt=\"\" class=\"DS1iW\" src=\"https://encrypted-tbn0.gstatic.com/images?q=tbn:ANd9GcRJxGXaxIYwRXAoL-FKi7zAVgRm2rbfKwguGOBvznePF6ZlYA_XW1s0P_garA&amp;s\"/>,\n",
       " <img alt=\"\" class=\"DS1iW\" src=\"https://encrypted-tbn0.gstatic.com/images?q=tbn:ANd9GcQxEo1P1z__u9YzuWsWxU1aLO3pVPKokmZpmRBNKNxSfEVzmgHiJgndSJKA_84&amp;s\"/>,\n",
       " <img alt=\"\" class=\"DS1iW\" src=\"https://encrypted-tbn0.gstatic.com/images?q=tbn:ANd9GcTpvSgNBcnXC_Te8I75faCE0YjUJkTPcEFklA4fJwhY0U5_7Q7bnYrNXXuAfiw&amp;s\"/>,\n",
       " <img alt=\"\" class=\"DS1iW\" src=\"https://encrypted-tbn0.gstatic.com/images?q=tbn:ANd9GcQAgg6zyDFcKQsF_pUtS3krHrHOL8bhcPUgmjTw47v1yiAup_7DxMdsokewzG0&amp;s\"/>,\n",
       " <img alt=\"\" class=\"DS1iW\" src=\"https://encrypted-tbn0.gstatic.com/images?q=tbn:ANd9GcQ1uXyLeFh3Xpocltv4iyDDBHynbpLhDz5if6ACUhDVQmqMbl88lKx7Z-Y6v8A&amp;s\"/>,\n",
       " <img alt=\"\" class=\"DS1iW\" src=\"https://encrypted-tbn0.gstatic.com/images?q=tbn:ANd9GcS0DHpXpb_kITI2tLyMZx5-4nqu1jkjsC8ZnA8rU4dhZSnc5inji3tVXYu1KQ&amp;s\"/>,\n",
       " <img alt=\"\" class=\"DS1iW\" src=\"https://encrypted-tbn0.gstatic.com/images?q=tbn:ANd9GcQtUjizJshX52X_qhGXsa2rIVOnGlRtXhBqnNPMB2JSn_ibAnT0s9aWUeAbfjE&amp;s\"/>,\n",
       " <img alt=\"\" class=\"DS1iW\" src=\"https://encrypted-tbn0.gstatic.com/images?q=tbn:ANd9GcTroSwKuBl1FgTBBgiky6zzxYWzJ0SAVItJRj46umpFz6otVDe40YRhsrE81g&amp;s\"/>,\n",
       " <img alt=\"\" class=\"DS1iW\" src=\"https://encrypted-tbn0.gstatic.com/images?q=tbn:ANd9GcQzrFz-RwdNj43EAHnQf1bzDYJk9wQq936OdhA7cg9TMbs2a9kGevM86OyF8g&amp;s\"/>,\n",
       " <img alt=\"\" class=\"DS1iW\" src=\"https://encrypted-tbn0.gstatic.com/images?q=tbn:ANd9GcRknJXZWKTePBZsmd50DUbb3ERIZ9-dyP7iyLn8qsrEfim_0O5FpjajhN6cFjg&amp;s\"/>,\n",
       " <img alt=\"\" class=\"DS1iW\" src=\"https://encrypted-tbn0.gstatic.com/images?q=tbn:ANd9GcSa4_w43GtcheOnl7H_YhCu7Fu2ItFoXLefyEYYQ8n5ZTbvGO3yGuiWqIU5Hw&amp;s\"/>,\n",
       " <img alt=\"\" class=\"DS1iW\" src=\"https://encrypted-tbn0.gstatic.com/images?q=tbn:ANd9GcSeetFW2Kk0ZQyaqq1hmOBhQkLmZkTDhiJP5URsGRfcjAnyWN6_OvRQkcJ3YQ&amp;s\"/>]"
      ]
     },
     "execution_count": 44,
     "metadata": {},
     "output_type": "execute_result"
    }
   ],
   "source": [
    "image_tags"
   ]
  },
  {
   "cell_type": "code",
   "execution_count": 45,
   "id": "d0233c87-5743-4f33-8643-cd6cb1f382f3",
   "metadata": {},
   "outputs": [
    {
     "data": {
      "text/plain": [
       "20"
      ]
     },
     "execution_count": 45,
     "metadata": {},
     "output_type": "execute_result"
    }
   ],
   "source": [
    "len(image_tags)"
   ]
  },
  {
   "cell_type": "code",
   "execution_count": 46,
   "id": "96ae9cd9-b99a-4c14-a547-ae4ec93eda5d",
   "metadata": {},
   "outputs": [
    {
     "name": "stdout",
     "output_type": "stream",
     "text": [
      "https://encrypted-tbn0.gstatic.com/images?q=tbn:ANd9GcSpcPBqqdl0GyyJldY3wynsNbK5RVQpBavKabUPq-MRjHxmKHlZTRP_gdog0A&s\n",
      "https://encrypted-tbn0.gstatic.com/images?q=tbn:ANd9GcSSyHFpRfCn3KnctrxA2AseLxRjU-33UHnsrzK_F8gyeBgnphHrNl6dM0_psAg&s\n",
      "https://encrypted-tbn0.gstatic.com/images?q=tbn:ANd9GcQPW6KKCnA1VTUZZzg9KLGsPDSnFkSg25RS8f1ZqpKd9T5TTT8Giy01b_Bv7Q&s\n",
      "https://encrypted-tbn0.gstatic.com/images?q=tbn:ANd9GcR3bMZBK4ZEEpBV7bcpGHxEtYkiqhKUTdLlK4jLUc2WImYWmNfrDQNLH3emyi4&s\n",
      "https://encrypted-tbn0.gstatic.com/images?q=tbn:ANd9GcQcClW3iWJN7GXI8j1-KDlJU5ArM3hR1pbwRmbli3gO3u3XWCvYaQ3CJCH7D20&s\n",
      "https://encrypted-tbn0.gstatic.com/images?q=tbn:ANd9GcTZFgZRHAQTkn9fdQtKefO4aZlRNGbLBNGoYoZNjQwUWydISJU1g0jSZR3p-g&s\n",
      "https://encrypted-tbn0.gstatic.com/images?q=tbn:ANd9GcR7HCb7JCqDO8Qn2NoQiWqJ0GiFeWTn8XGd9Xv7Hcrel12nb9zsh2zEM-lSMEE&s\n",
      "https://encrypted-tbn0.gstatic.com/images?q=tbn:ANd9GcROcHy3WsPNCU_hAlVQ2agKLDqdJ-w1lhLY7B4O_ugJUQdLUWkvK5ACxDYPZQ&s\n",
      "https://encrypted-tbn0.gstatic.com/images?q=tbn:ANd9GcRJxGXaxIYwRXAoL-FKi7zAVgRm2rbfKwguGOBvznePF6ZlYA_XW1s0P_garA&s\n",
      "https://encrypted-tbn0.gstatic.com/images?q=tbn:ANd9GcQxEo1P1z__u9YzuWsWxU1aLO3pVPKokmZpmRBNKNxSfEVzmgHiJgndSJKA_84&s\n",
      "https://encrypted-tbn0.gstatic.com/images?q=tbn:ANd9GcTpvSgNBcnXC_Te8I75faCE0YjUJkTPcEFklA4fJwhY0U5_7Q7bnYrNXXuAfiw&s\n",
      "https://encrypted-tbn0.gstatic.com/images?q=tbn:ANd9GcQAgg6zyDFcKQsF_pUtS3krHrHOL8bhcPUgmjTw47v1yiAup_7DxMdsokewzG0&s\n",
      "https://encrypted-tbn0.gstatic.com/images?q=tbn:ANd9GcQ1uXyLeFh3Xpocltv4iyDDBHynbpLhDz5if6ACUhDVQmqMbl88lKx7Z-Y6v8A&s\n",
      "https://encrypted-tbn0.gstatic.com/images?q=tbn:ANd9GcS0DHpXpb_kITI2tLyMZx5-4nqu1jkjsC8ZnA8rU4dhZSnc5inji3tVXYu1KQ&s\n",
      "https://encrypted-tbn0.gstatic.com/images?q=tbn:ANd9GcQtUjizJshX52X_qhGXsa2rIVOnGlRtXhBqnNPMB2JSn_ibAnT0s9aWUeAbfjE&s\n",
      "https://encrypted-tbn0.gstatic.com/images?q=tbn:ANd9GcTroSwKuBl1FgTBBgiky6zzxYWzJ0SAVItJRj46umpFz6otVDe40YRhsrE81g&s\n",
      "https://encrypted-tbn0.gstatic.com/images?q=tbn:ANd9GcQzrFz-RwdNj43EAHnQf1bzDYJk9wQq936OdhA7cg9TMbs2a9kGevM86OyF8g&s\n",
      "https://encrypted-tbn0.gstatic.com/images?q=tbn:ANd9GcRknJXZWKTePBZsmd50DUbb3ERIZ9-dyP7iyLn8qsrEfim_0O5FpjajhN6cFjg&s\n",
      "https://encrypted-tbn0.gstatic.com/images?q=tbn:ANd9GcSa4_w43GtcheOnl7H_YhCu7Fu2ItFoXLefyEYYQ8n5ZTbvGO3yGuiWqIU5Hw&s\n",
      "https://encrypted-tbn0.gstatic.com/images?q=tbn:ANd9GcSeetFW2Kk0ZQyaqq1hmOBhQkLmZkTDhiJP5URsGRfcjAnyWN6_OvRQkcJ3YQ&s\n"
     ]
    }
   ],
   "source": [
    "for i in image_tags:\n",
    "    print(i['src'])"
   ]
  },
  {
   "cell_type": "code",
   "execution_count": 47,
   "id": "17c8df32-c77b-4ac8-9b63-f7bf5a6d91d5",
   "metadata": {},
   "outputs": [],
   "source": [
    "for i in image_tags:\n",
    "    image_url=i['src']\n",
    "    image_data=requests.get(image_url).content\n",
    "    with open(os.path.join(save_dir,f\"{query}_{image_tags.index(i)}.jpg\"),\"wb\") as f:\n",
    "        f.write(image_data)"
   ]
  },
  {
   "cell_type": "code",
   "execution_count": null,
   "id": "3a41afa3-4b33-4ccd-97e8-b334b0547c03",
   "metadata": {},
   "outputs": [],
   "source": []
  },
  {
   "cell_type": "code",
   "execution_count": null,
   "id": "c47ca25c-7fca-4ec7-8196-5934d898421d",
   "metadata": {},
   "outputs": [],
   "source": []
  }
 ],
 "metadata": {
  "kernelspec": {
   "display_name": "Python 3 (ipykernel)",
   "language": "python",
   "name": "python3"
  },
  "language_info": {
   "codemirror_mode": {
    "name": "ipython",
    "version": 3
   },
   "file_extension": ".py",
   "mimetype": "text/x-python",
   "name": "python",
   "nbconvert_exporter": "python",
   "pygments_lexer": "ipython3",
   "version": "3.10.13"
  }
 },
 "nbformat": 4,
 "nbformat_minor": 5
}
